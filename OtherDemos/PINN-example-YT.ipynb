{
 "cells": [
  {
   "cell_type": "markdown",
   "metadata": {},
   "source": [
    "Example Copied from YouTube: Physics Informed Neural Networks explained for beginners | From scratch implementation and code"
   ]
  },
  {
   "cell_type": "code",
   "execution_count": 20,
   "metadata": {},
   "outputs": [],
   "source": [
    "import torch\n",
    "import torch.nn as nn\n",
    "import numpy as np\n",
    "import matplotlib.pyplot as plt"
   ]
  },
  {
   "cell_type": "code",
   "execution_count": 38,
   "metadata": {},
   "outputs": [],
   "source": [
    "# ------------------\n",
    "# 1: Generate Synthetic Data \n",
    "# ------------------ \n",
    "\n",
    "# Initialize physics parameters (global variables)\n",
    "g = 9.8         # acceleration due to gravity\n",
    "v0 = 10.0   # initial velocity\n",
    "h0 = 1.0    # initial height\n",
    "\n",
    "# Ground-truth/analytical solution is h(t) = h0 + v0 -0.5 * g * t^2\n",
    "def true_solution(t): # creates ideal dataset without noise\n",
    "    return h0 + v0*t - 0.5*g*(t**2)\n",
    "\n",
    "t_min, t_max = 0.0, 2.0\n",
    "N_data = 10\n",
    "t_data = np.linspace(t_min, t_max, N_data) # grid of 10 datapoints using np.linspace (numpy array)\n",
    "\n",
    "# Generate synthetic \"experimental\" heights with noise\n",
    "np.random.seed(0) # seed for repeatable outputs\n",
    "noise_level = 0.6 # how much we're perturbing the dataset\n",
    "h_data_exact = true_solution(t_data)\n",
    "h_data_noisy = h_data_exact + noise_level*np.random.randn(N_data)\n",
    "\n",
    "# Convert data to PyTorch tensors\n",
    "t_data_tensor = torch.tensor(t_data, dtype=torch.float32).view(-1,1)  # model is fed input tensor\n",
    "t_data_tensor.requires_grad_(True) # the x parameter in dh_dt_derivative(y, x) needs to have .requires_grad(True)\n",
    "h_data_tensor = torch.tensor(h_data_noisy, dtype=torch.float32).view(-1,1) # model supposed to predict this tensor"
   ]
  },
  {
   "cell_type": "code",
   "execution_count": 22,
   "metadata": {},
   "outputs": [],
   "source": [
    "# ------------------\n",
    "# 2: Define a small feed-forward neural network for h(t) and structure\n",
    "# ------------------ \n",
    "class PINN(nn.Module):\n",
    "    def __init__(self, n_hidden=20): # n_hidden = num of neurons in hidden layer\n",
    "        super(PINN, self).__init__()\n",
    "    # Defining a simple MLP with 2 hidden layers\n",
    "        self.net = nn.Sequential(\n",
    "            nn.Linear(1, n_hidden), # 1 input into 20 neurons\n",
    "            nn.Tanh(), # activation function\n",
    "            nn.Linear(n_hidden, n_hidden),\n",
    "            nn.Tanh(),\n",
    "            nn.Linear(n_hidden, 1) # 20 neurons into 1 output\n",
    "        )\n",
    "    \n",
    "    def forward(self, t): # 'forward(self, t) is a required method, even the name, to process inputs when model() is used\n",
    "        # Forward pass algorithm: input shape (batch_size, 1) -> output shape (batch_size, 1)\n",
    "        return self.net(t)\n",
    "    \n",
    "# Instantiate the model\n",
    "model = PINN(n_hidden=20)"
   ]
  },
  {
   "cell_type": "code",
   "execution_count": 23,
   "metadata": {},
   "outputs": [],
   "source": [
    "# ------------------\n",
    "# 3: Helper function for automatic differentiation\n",
    "# ------------------ \n",
    "# Computes dy/dx using PyTorch's autograd.\n",
    "# y and x must be tensors with requires_grad=True for x\n",
    "\n",
    "def dh_dt_derivative(y,x):\n",
    "    return torch.autograd.grad(\n",
    "        y, x,\n",
    "        grad_outputs=torch.ones_like(y),\n",
    "        create_graph=True\n",
    "    )[0]\n",
    "\n",
    "# returns the output of the automatic differentiation by\n",
    "# differentiating the neural network at any point h & t"
   ]
  },
  {
   "cell_type": "code",
   "execution_count": 27,
   "metadata": {},
   "outputs": [],
   "source": [
    "# ------------------\n",
    "# 3: Define Loss Components/Functions for PINN\n",
    "# ------------------\n",
    "\n",
    "# We have 3 losses...\n",
    "# loss due to predicted data and experimental data (noisy data + parabolic data)\n",
    "# loss due to ODE via predicted dh/dt and actual dh/dt (dh/dt = v0 - g * t)\n",
    "# loss due to the predicted intiial condition and actual initial condition (height)\n",
    "\n",
    "def data_loss(model, t_data, h_data):\n",
    "    # MSE between predicted h(t_i) and noisy measurements h_data\n",
    "    h_pred = model(t_data)\n",
    "    return torch.mean((h_pred - h_data)**2)\n",
    "    \n",
    "def physics_loss(model, t):\n",
    "    # MSE ODE loss\n",
    "    # Compare d(h_pred)/dt with the known expression v0 - g*t (dh/dt)\n",
    "    h_pred = model(t)\n",
    "    dh_dt_pred = dh_dt_derivative(h_pred, t)\n",
    "    \n",
    "    # Known physics, for each t we apply v0 - g * t (dh/dt)\n",
    "    dh_dt_true = v0 - g * t\n",
    "    \n",
    "    loss_ode = torch.mean((dh_dt_true - dh_dt_pred)**2)\n",
    "    return loss_ode\n",
    "    \n",
    "def initial_condition_loss(model):\n",
    "    # MSE enforcing h(t=0) = h0, height at t=0 is the same as initial height\n",
    "    # So, we need to evaluate at t=0\n",
    "    t0 = torch.zeros(1, 1, dtype=torch.float32, requires_grad=False)\n",
    "    h0_pred = model(t0)\n",
    "    return (h0_pred - h0).pow(2).mean()"
   ]
  },
  {
   "cell_type": "code",
   "execution_count": 25,
   "metadata": {},
   "outputs": [],
   "source": [
    "# ------------------\n",
    "# 5: Training Setup and Optimizer\n",
    "# ------------------\n",
    "\n",
    "# lr = learning rate = eta\n",
    "optimizer = torch.optim.Adam(model.parameters(), lr=0.01)\n",
    "\n",
    "# Define hyperparameters for weighing loss terms (lambda)\n",
    "lambda_data = 1.0\n",
    "lambda_ode = 1.0\n",
    "lambda_init_cond = 1.0\n",
    "\n",
    "# Define loops/epochs for forward pass and backpropagation \n",
    "epochs = 1000"
   ]
  },
  {
   "cell_type": "code",
   "execution_count": 29,
   "metadata": {},
   "outputs": [
    {
     "name": "stdout",
     "output_type": "stream",
     "text": [
      "Epoch #: 0/1000 Loss from the data = 0.35115939378738403 Loss from the ODE = 0.015489774756133556 Loss from the initial condition = 0.01012357510626316 Calculated total loss = 0.37677276134490967 \n",
      "Epoch #: 100/1000 Loss from the data = 0.3505200445652008 Loss from the ODE = 0.015549151226878166 Loss from the initial condition = 0.010116979479789734 Calculated total loss = 0.37618619203567505 \n",
      "Epoch #: 200/1000 Loss from the data = 0.3496447503566742 Loss from the ODE = 0.01570739969611168 Loss from the initial condition = 0.010122807696461678 Calculated total loss = 0.3754749596118927 \n",
      "Epoch #: 300/1000 Loss from the data = 0.3487747609615326 Loss from the ODE = 0.015916431322693825 Loss from the initial condition = 0.010073979385197163 Calculated total loss = 0.37476518750190735 \n",
      "Epoch #: 400/1000 Loss from the data = 0.34792304039001465 Loss from the ODE = 0.016093870624899864 Loss from the initial condition = 0.01000086311250925 Calculated total loss = 0.37401777505874634 \n",
      "Epoch #: 500/1000 Loss from the data = 0.346917986869812 Loss from the ODE = 0.016291948035359383 Loss from the initial condition = 0.009925899095833302 Calculated total loss = 0.37313583493232727 \n",
      "Epoch #: 600/1000 Loss from the data = 0.34566378593444824 Loss from the ODE = 0.016556577757000923 Loss from the initial condition = 0.009836810640990734 Calculated total loss = 0.3720571994781494 \n",
      "Epoch #: 700/1000 Loss from the data = 0.34408697485923767 Loss from the ODE = 0.01693587191402912 Loss from the initial condition = 0.009721260517835617 Calculated total loss = 0.37074410915374756 \n",
      "Epoch #: 800/1000 Loss from the data = 0.3421939015388489 Loss from the ODE = 0.017468392848968506 Loss from the initial condition = 0.009580845944583416 Calculated total loss = 0.36924314498901367 \n",
      "Epoch #: 900/1000 Loss from the data = 0.34018242359161377 Loss from the ODE = 0.01811348646879196 Loss from the initial condition = 0.009445831179618835 Calculated total loss = 0.36774176359176636 \n"
     ]
    }
   ],
   "source": [
    "# ------------------\n",
    "# 6: Training the Model \n",
    "# ------------------\n",
    "\n",
    "model.train()\n",
    "\n",
    "# Do the loops\n",
    "for epoch in range(epochs):\n",
    "    optimizer.zero_grad() # declare optimizer\n",
    "    \n",
    "    #compute losses\n",
    "    loss_data = data_loss(model, t_data_tensor, h_data_tensor)\n",
    "    loss_ode = physics_loss(model, t_data_tensor)\n",
    "    loss_init_cond = initial_condition_loss(model)\n",
    "    \n",
    "    # Total loss computed\n",
    "    loss_total = (lambda_data * loss_data) + (lambda_ode * loss_ode) + (lambda_init_cond * loss_init_cond)\n",
    "    \n",
    "    #Backpropagation\n",
    "    loss_total.backward()\n",
    "    optimizer.step()\n",
    "    \n",
    "    \n",
    "        # Print losses\n",
    "    if epoch % 100 == 0:\n",
    "        print(\n",
    "            f\"Epoch #: {epoch}/{epochs} \"\n",
    "            f\"Loss from the data = {loss_data} \"\n",
    "            f\"Loss from the ODE = {loss_ode} \"\n",
    "            f\"Loss from the initial condition = {loss_init_cond} \"\n",
    "            f\"Calculated total loss = {loss_total} \"\n",
    "        )"
   ]
  },
  {
   "cell_type": "code",
   "execution_count": 37,
   "metadata": {},
   "outputs": [
    {
     "data": {
      "image/png": "[encoded data removed]",
      "text/plain": [
       "<Figure size 800x500 with 1 Axes>"
      ]
     },
     "metadata": {},
     "output_type": "display_data"
    }
   ],
   "source": [
    "# ------------------\n",
    "# 7: Evaluate the Model using Noisy Data\n",
    "# ------------------\n",
    "\n",
    "model.eval()\n",
    "t_plot = np.linspace(t_min, t_max, 100).reshape(-1, 1).astype(np.float32) # x-axis, time values from 0-100\n",
    "t_plot_tensor = torch.tensor(t_plot, requires_grad=True)\n",
    "h_pred_plot = model(t_plot_tensor).detach().numpy()\n",
    "\n",
    "#True solution to compare on the graph\n",
    "h_true_plot = true_solution(t_plot)\n",
    "\n",
    "# Plot the results\n",
    "plt.figure(figsize=(8,5))\n",
    "\n",
    "# Plotting 3 graphs\n",
    "plt.scatter(t_data, h_data_noisy, color='red', label='Noisy Data')\n",
    "plt.scatter(t_plot, h_pred_plot, color='blue', label='Predicted Data using PINN')\n",
    "plt.scatter(t_plot, h_true_plot,color='yellow', label='Ground-Truth Solution')\n",
    "\n",
    "plt.xlabel('time (t)')\n",
    "plt.ylabel('height (h(t))')\n",
    "plt.legend()\n",
    "plt.title('PINN for Ball Trajectory')\n",
    "plt.grid(True)\n",
    "plt.show()\n"
   ]
  }
 ],
 "metadata": {
  "kernelspec": {
   "display_name": "PINN-example-YT",
   "language": "python",
   "name": "python3"
  },
  "language_info": {
   "codemirror_mode": {
    "name": "ipython",
    "version": 3
   },
   "file_extension": ".py",
   "mimetype": "text/x-python",
   "name": "python",
   "nbconvert_exporter": "python",
   "pygments_lexer": "ipython3",
   "version": "3.13.5"
  },
  "orig_nbformat": 4
 },
 "nbformat": 4,
 "nbformat_minor": 2
}
