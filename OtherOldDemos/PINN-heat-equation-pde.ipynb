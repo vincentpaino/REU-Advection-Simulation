{
 "cells": [
  {
   "cell_type": "code",
   "execution_count": 1,
   "metadata": {},
   "outputs": [],
   "source": [
    "import torch\n",
    "import torch.nn as nn"
   ]
  },
  {
   "cell_type": "code",
   "execution_count": 4,
   "metadata": {},
   "outputs": [],
   "source": [
    "# Set device\n",
    "device = torch.device(\"cuda\" if torch.cuda.is_available() else \"cpu\")\n",
    "\n",
    "class HeatEquationPINN(nn.Module):\n",
    "    def __init__(self):\n",
    "        super(HeatEquationPINN, self).__init__()\n",
    "        self.net = nn.Sequential(\n",
    "            nn.Linear(2,50),\n",
    "            nn.Tanh(),\n",
    "            nn.Linear(50,50),\n",
    "            nn.Tanh(),\n",
    "            nn.Linear(50,50),\n",
    "            nn.Tanh(),\n",
    "            nn.Linear(50,1)\n",
    "        )\n",
    "    \n",
    "    def forward(self, x, t):\n",
    "        input = torch.cat([x, t], dim=1)\n",
    "        return self.net(input)\n",
    "        \n",
    "    \n",
    "# initialize\n",
    "model = HeatEquationPINN().to(device)"
   ]
  },
  {
   "cell_type": "code",
   "execution_count": null,
   "metadata": {},
   "outputs": [],
   "source": [
    "# Loss functions\n",
    "\n",
    "#def data_loss():\n",
    "\n",
    "# need to minimize du/dt - d^2u/dx^2 = 0\n",
    "    x.requires_grad_(True)\n",
    "    t.requires_grad_(True)\n",
    "    \n",
    "    u = model(x,t)\n",
    "    \n",
    "    du_dt = torch.autograd.grad(u, t, grad_outputs=torch.ones_like(u), create_graph=True)[0]\n",
    "    du_dx = torch.autograd.grad(u, x, grad_outputs=torch.ones_like(u), create_graph=True)[0]\n",
    "    d2u_dx2 = torch.autograd.grad(du_dx, x, grad_outputs=torch.ones_like(u), create_graph=True)[0]\n",
    "    \n",
    "    return torch.mean((du_dt - d2u_dx2) ** 2)\n",
    "\n",
    "\n",
    "# when x = 0 or another discretized value\n",
    "def bc_loss(model, x, t):\n",
    "    u_bc = \n",
    "    return 0\n",
    "\n",
    "# when t = 0 or another discretized value\n",
    "def ic_loss(model, x, t):\n",
    "    return 0\n",
    "\n",
    "# add all losses to make total_loss\n",
    "def total_loss(pde_loss, bc_loss, ic_loss):\n",
    "    total_loss = pde_loss + bc_loss + ic_loss\n",
    "    return total_loss"
   ]
  }
 ],
 "metadata": {
  "kernelspec": {
   "display_name": "PINN-wave-equation",
   "language": "python",
   "name": "python3"
  },
  "language_info": {
   "codemirror_mode": {
    "name": "ipython",
    "version": 3
   },
   "file_extension": ".py",
   "mimetype": "text/x-python",
   "name": "python",
   "nbconvert_exporter": "python",
   "pygments_lexer": "ipython3",
   "version": "3.12.11"
  },
  "orig_nbformat": 4
 },
 "nbformat": 4,
 "nbformat_minor": 2
}
